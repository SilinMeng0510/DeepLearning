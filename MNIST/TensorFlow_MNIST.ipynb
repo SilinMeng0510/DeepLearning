{
  "cells": [
    {
      "cell_type": "markdown",
      "metadata": {
        "id": "view-in-github",
        "colab_type": "text"
      },
      "source": [
        "<a href=\"https://colab.research.google.com/github/SilinMeng0510/DeepLearning/blob/main/MNIST/TensorFlow_MNIST.ipynb\" target=\"_parent\"><img src=\"https://colab.research.google.com/assets/colab-badge.svg\" alt=\"Open In Colab\"/></a>"
      ]
    },
    {
      "cell_type": "code",
      "execution_count": 1,
      "metadata": {
        "id": "hz48OBwjExoB"
      },
      "outputs": [],
      "source": [
        "import numpy as np\n",
        "import tensorflow as tf\n",
        "\n",
        "import tensorflow_datasets as tfds"
      ]
    },
    {
      "cell_type": "code",
      "execution_count": 8,
      "metadata": {
        "id": "urIHpIDAExoE"
      },
      "outputs": [],
      "source": [
        "mnist_dataset, mnist_info = tfds.load(name='mnist', with_info=True, as_supervised=True)\n",
        "\n",
        "mnist_train, mnist_test = mnist_dataset['train'], mnist_dataset['test']\n",
        "\n",
        "num_validation_samples = 0.1 * mnist_info.splits['train'].num_examples\n",
        "num_validation_samples = tf.cast(num_validation_samples, tf.int64)\n",
        "\n",
        "num_test_samples = mnist_info.splits['test'].num_examples\n",
        "num_test_samples = tf.cast(num_test_samples, tf.int64)\n",
        "\n",
        "\n",
        "def scale(image, label):\n",
        "    image = tf.cast(image, tf.float32)\n",
        "    image /= 255.\n",
        "    return image, label\n",
        "\n",
        "scaled_train_and_validation_data = mnist_train.map(scale)\n",
        "\n",
        "test_data = mnist_test.map(scale)\n",
        "\n",
        "\n",
        "BUFFER_SIZE = 10000\n",
        "\n",
        "shuffled_train_and_validation_data = scaled_train_and_validation_data.shuffle(BUFFER_SIZE)\n",
        "\n",
        "validation_data = shuffled_train_and_validation_data.take(num_validation_samples)\n",
        "train_data = shuffled_train_and_validation_data.skip(num_validation_samples)\n",
        "\n",
        "\n",
        "BATCH_SIZE = 64\n",
        "\n",
        "train_data = train_data.batch(BATCH_SIZE)\n",
        "validation_data = validation_data.batch(num_validation_samples)\n",
        "test_data = test_data.batch(num_test_samples)\n",
        "\n",
        "validation_inputs, validation_targets = next(iter(validation_data))"
      ]
    },
    {
      "cell_type": "code",
      "execution_count": 13,
      "metadata": {
        "id": "sTEI3Ub5ExoF"
      },
      "outputs": [],
      "source": [
        "input_size = 784\n",
        "output_size = 10\n",
        "hidden_layer_size = 400\n",
        "\n",
        "model = tf.keras.Sequential([\n",
        "                            tf.keras.layers.Flatten(input_shape=(28,28,1)),\n",
        "                            tf.keras.layers.Dense(600, activation='relu', kernel_initializer=tf.keras.initializers.HeNormal()),\n",
        "                            tf.keras.layers.Dense(200, activation='relu', kernel_initializer=tf.keras.initializers.HeNormal()),\n",
        "                            tf.keras.layers.Dense(output_size, activation='softmax', kernel_initializer=tf.keras.initializers.GlorotUniform())   \n",
        "                            ])"
      ]
    },
    {
      "cell_type": "code",
      "execution_count": 14,
      "metadata": {
        "id": "qHEot87vExoG"
      },
      "outputs": [],
      "source": [
        "model.compile(optimizer='adam', loss='sparse_categorical_crossentropy', metrics=['accuracy'])"
      ]
    },
    {
      "cell_type": "code",
      "execution_count": 15,
      "metadata": {
        "scrolled": true,
        "colab": {
          "base_uri": "https://localhost:8080/"
        },
        "id": "FPSXKGM9ExoG",
        "outputId": "488491fd-226c-4798-96d2-021037265ff5"
      },
      "outputs": [
        {
          "output_type": "stream",
          "name": "stdout",
          "text": [
            "Epoch 1/7\n",
            "844/844 - 12s - loss: 0.2051 - accuracy: 0.9377 - val_loss: 0.0909 - val_accuracy: 0.9733 - 12s/epoch - 14ms/step\n",
            "Epoch 2/7\n",
            "844/844 - 13s - loss: 0.0787 - accuracy: 0.9753 - val_loss: 0.0652 - val_accuracy: 0.9812 - 13s/epoch - 15ms/step\n",
            "Epoch 3/7\n",
            "844/844 - 12s - loss: 0.0529 - accuracy: 0.9826 - val_loss: 0.0526 - val_accuracy: 0.9842 - 12s/epoch - 14ms/step\n",
            "Epoch 4/7\n",
            "844/844 - 12s - loss: 0.0393 - accuracy: 0.9871 - val_loss: 0.0413 - val_accuracy: 0.9880 - 12s/epoch - 14ms/step\n",
            "Epoch 5/7\n",
            "844/844 - 11s - loss: 0.0296 - accuracy: 0.9902 - val_loss: 0.0480 - val_accuracy: 0.9872 - 11s/epoch - 13ms/step\n",
            "Epoch 6/7\n",
            "844/844 - 12s - loss: 0.0271 - accuracy: 0.9916 - val_loss: 0.0350 - val_accuracy: 0.9878 - 12s/epoch - 14ms/step\n",
            "Epoch 7/7\n",
            "844/844 - 11s - loss: 0.0223 - accuracy: 0.9927 - val_loss: 0.0248 - val_accuracy: 0.9928 - 11s/epoch - 13ms/step\n"
          ]
        },
        {
          "output_type": "execute_result",
          "data": {
            "text/plain": [
              "<keras.callbacks.History at 0x7ff714818f10>"
            ]
          },
          "metadata": {},
          "execution_count": 15
        }
      ],
      "source": [
        "NUM_EPOCHS = 7\n",
        "\n",
        "model.fit(train_data, epochs = NUM_EPOCHS, validation_data=(validation_inputs, validation_targets), \n",
        "          validation_steps=10, verbose=2)"
      ]
    },
    {
      "cell_type": "code",
      "execution_count": 16,
      "metadata": {
        "colab": {
          "base_uri": "https://localhost:8080/"
        },
        "id": "EeJLdgzeExoH",
        "outputId": "74b69609-895a-43c7-9b05-56003837cdbb"
      },
      "outputs": [
        {
          "output_type": "stream",
          "name": "stdout",
          "text": [
            "1/1 [==============================] - 1s 1s/step - loss: 0.0679 - accuracy: 0.9840\n"
          ]
        }
      ],
      "source": [
        "test_loss, test_accuracy = model.evaluate(test_data)"
      ]
    },
    {
      "cell_type": "code",
      "execution_count": 7,
      "metadata": {
        "id": "nz7iZBnBExoI",
        "outputId": "c26588ec-fa1c-4c7d-c40b-7f5b1600bc64",
        "colab": {
          "base_uri": "https://localhost:8080/"
        }
      },
      "outputs": [
        {
          "output_type": "stream",
          "name": "stdout",
          "text": [
            "Test loss: 0.09. Test accuracy: 97.93%\n"
          ]
        }
      ],
      "source": [
        "print('Test loss: {0:.2f}. Test accuracy: {1:.2f}%'.format(test_loss, test_accuracy*100.))"
      ]
    }
  ],
  "metadata": {
    "kernelspec": {
      "display_name": "Python3-TensorFlow2",
      "language": "python",
      "name": "python3-tensorflow2"
    },
    "language_info": {
      "codemirror_mode": {
        "name": "ipython",
        "version": 3
      },
      "file_extension": ".py",
      "mimetype": "text/x-python",
      "name": "python",
      "nbconvert_exporter": "python",
      "pygments_lexer": "ipython3",
      "version": "3.7.6"
    },
    "colab": {
      "provenance": [],
      "include_colab_link": true
    }
  },
  "nbformat": 4,
  "nbformat_minor": 0
}